{
 "cells": [
  {
   "cell_type": "markdown",
   "id": "57b022e4",
   "metadata": {},
   "source": [
    "# Chernoff Faces in ESRI\n",
    "\n",
    "• Author: Tayebe Sadat mousavi\n",
    "\n",
    "• Contact: tayebemoosavi@mail.um.ac.ir\n"
   ]
  },
  {
   "cell_type": "markdown",
   "id": "9ffb58b8",
   "metadata": {},
   "source": [
    "## Do You Know Esri Company?\n",
    "\n",
    "Esri is the global market leader in geographic information system (GIS) software, location intelligence, and mapping."
   ]
  },
  {
   "cell_type": "markdown",
   "id": "55aa0d01",
   "metadata": {},
   "source": [
    "### ESRI users\n",
    "Over 650,000 customer organizations, including 90% of Fortune 100 companies, most national governments, 30,000 cities and local governments, all 50 US states, and 12,000 universities."
   ]
  },
  {
   "cell_type": "markdown",
   "id": "d504340a",
   "metadata": {},
   "source": [
    "## The Story Behind the Map\n",
    "\n",
    "John Nelson, working at ArcGIS Living Atlas in Esri, seeks ways to visualize and present data in an engaging manner. He created a map that displayed whether more money is spent on beer or wine per person in America. For this, he used consumer spending data from Esri Demographics, calculating the per capita cost for both beer and wine.\n",
    "\n",
    "![h1_charging](./esriImage/h1.jpg)\n",
    "\n",
    "But this map had problems. Some places may really prefer beer or wine, but that doesn't necessarily mean they buy a lot of it. It's time to make the map fairer.\n",
    "\n",
    "![h2_charging](./esriImage/h2.jpg)\n"
   ]
  },
  {
   "cell_type": "markdown",
   "id": "89b94add",
   "metadata": {},
   "source": [
    "## Using Chernoff Faces for Data Representation\n",
    "\n",
    "Now, on another note, John Nelson wants to use Chernoff faces and display information in a different way.\n",
    "Data is a very simple combination of two things…\n",
    "• Relative preference for beer or wine\n",
    "• How much they cost\n",
    "\n",
    "![h3_charging](./esriImage/h3.png)\n",
    "\n",
    "Here we have 9 small and neat groups.\n",
    "\n",
    "![h4_charging](./esriImage/h4.png)\n",
    "\n",
    "And a map similar to Chernoff\n",
    "\n",
    "![h5_charging](./esriImage/h5.jpg)\n",
    "\n",
    "Next, Nelson adds United Nations’ World Happiness Index data to his map.For most of the countries in the world, the UN tries to statistically derive some of the reasons for survey results of how happy people in each country are. There are six factors they consider. Plus the overall happiness score. A more standard multivariate map might look like this…\n",
    "\n",
    "![h6_charging](./esriImage/h6.jpg)\n",
    "\n",
    "But notions of “standard” carry little weight in the world of Chernoff faces\n",
    "So instead of talking about graded circles, he plotted some facial features for six happiness factors (plus overall happiness, so seven), each with a high/medium/low type. 21 pictures must be drawn.\n",
    "\n",
    "![h7_charging](./esriImage/h7.png)\n",
    " \n",
    "The map display changed.\n",
    "\n",
    "![h8_charging](./esriImage/h8.jpg)\n",
    " \n",
    "According to Nelson, Chernoff's map are potentially problematic. Although in some cases, for example, the relationship between the state of the eyes and the person's health seems logical, in many cases, the features are not related to the emotion conveyed by the face, and again we are faced with a completely abstract representation of the data. Additionally, some facial expressions can be due to race or ethnicity.\n",
    "Heather Rosenfeld has done some interesting work in trying to obfuscate potential interpretations of gender and race by making zombie Chernoff faces."
   ]
  },
  {
   "cell_type": "markdown",
   "id": "f449a6bf",
   "metadata": {},
   "source": [
    "## conclusion\n",
    "\n",
    "The use of Chernoff Faces in maps can be both useful and misleading."
   ]
  },
  {
   "cell_type": "markdown",
   "id": "d5588000",
   "metadata": {},
   "source": [
    "## References\n",
    "https://www.esri.com/en-us/about/about-esri/company\n",
    "\n",
    "https://www.esri.com/arcgis-blog/products/arcgis-online/analytics/beer-vs-wine/\n",
    "\n",
    "https://www.esri.com/arcgis-blog/products/arcgis-pro/mapping/chernoff-faces/?srsltid=AfmBOopVqKXWLS5eFh2K81fGH2l-b57asXLwkHfV0XFqrYqdYjsmynBT\n"
   ]
  }
 ],
 "metadata": {
  "language_info": {
   "name": "python"
  }
 },
 "nbformat": 4,
 "nbformat_minor": 5
}
